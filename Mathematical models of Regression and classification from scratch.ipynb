{
  "cells": [
    {
      "cell_type": "markdown",
      "source": [
        "\n",
        "## Gradient Descent, Linear Regression, and Regularization\n",
        "\n",
        "\n",
        "\n"
      ],
      "metadata": {
        "id": "Vl8EigX3osrA"
      }
    },
    {
      "cell_type": "markdown",
      "source": [
        "## Import Statements"
      ],
      "metadata": {
        "id": "Fuh-16Vfrtp7"
      }
    },
    {
      "cell_type": "code",
      "execution_count": null,
      "metadata": {
        "deletable": false,
        "editable": false,
        "nbgrader": {
          "cell_type": "code",
          "checksum": "fe70877a859ee0a10e9d591778022f8a",
          "grade": false,
          "grade_id": "Import_Statements",
          "locked": true,
          "schema_version": 3,
          "solution": false,
          "task": false
        },
        "id": "wGY8PStloky3"
      },
      "outputs": [],
      "source": [
        "import numpy as np\n",
        "import pandas as pd\n",
        "from matplotlib import pyplot as plt"
      ]
    },
    {
      "cell_type": "markdown",
      "metadata": {
        "deletable": false,
        "editable": false,
        "nbgrader": {
          "cell_type": "markdown",
          "checksum": "e36a214573fc40f26b45e72215d61375",
          "grade": false,
          "grade_id": "Normalize_Title",
          "locked": true,
          "schema_version": 3,
          "solution": false,
          "task": false
        },
        "id": "y3pISCproky5"
      },
      "source": [
        "## Normalize function\n",
        "\n",
        "Add your code in the cell below to normalize the independent variables, making them zero mean and unit variance."
      ]
    },
    {
      "cell_type": "code",
      "execution_count": null,
      "metadata": {
        "deletable": false,
        "nbgrader": {
          "cell_type": "code",
          "checksum": "0039f4480dfc6d62a548d976991c3a44",
          "grade": false,
          "grade_id": "Normalize_Function",
          "locked": false,
          "schema_version": 3,
          "solution": true,
          "task": false
        },
        "id": "rS3upFWtoky5"
      },
      "outputs": [],
      "source": [
        "def Normalize(X): # Output should be a normalized data matrix of the same dimension\n",
        "    '''\n",
        "    Normalize all columns of X using mean and standard deviation\n",
        "    '''\n",
        "    # YOUR CODE HERE\n",
        "    # df= pd.DataFrame(X)\n",
        "    # normalized_df=(df-df.mean())/df.std()\n",
        "    # print(normalized_df)\n",
        "    # return normalized_df\n",
        "    x = (X - np.mean(X, axis=0)) / np.std(X, axis=0)\n",
        "    return x\n",
        "    # raise NotImplementedError()"
      ]
    },
    {
      "cell_type": "code",
      "execution_count": null,
      "metadata": {
        "deletable": false,
        "editable": false,
        "nbgrader": {
          "cell_type": "code",
          "checksum": "7797dd606a68f028c945acd08850d108",
          "grade": true,
          "grade_id": "Normalize_Test",
          "locked": true,
          "points": 5,
          "schema_version": 3,
          "solution": false,
          "task": false
        },
        "id": "ygO-K7bzoky6"
      },
      "outputs": [],
      "source": [
        "'''\n",
        "TEST CASES, DO NOT CHANGE\n",
        "'''\n",
        "''' case 1 - 1 dimensional array'''\n",
        "#X=np.array([[1,2,3],[3,4,5],[7,8,9]])\n",
        "X1=np.array([1,2,3])\n",
        "np.testing.assert_array_almost_equal(Normalize(X1),np.array([-1.224,  0.      ,  1.224]),decimal=3)\n",
        "''' case 2 - 2 dimensional array'''\n",
        "X2=np.array([[4,7,6],[3,8,9],[5,11,10]])\n",
        "np.testing.assert_array_almost_equal(Normalize(X2),np.array([[ 0.  , -0.980581, -1.372813],[-1.224745, -0.392232,  0.392232],[ 1.224745,  1.372813,  0.980581]]))\n",
        "''' case 3 - 1 dimensional array with float'''\n",
        "X3=np.array([5.5,6.7,3.2,6.7])\n",
        "np.testing.assert_array_almost_equal(Normalize(X3),np.array([-0.017,  0.822, -1.627,  0.822]),decimal=3)"
      ]
    },
    {
      "cell_type": "markdown",
      "metadata": {
        "id": "ccow4yKXoky7"
      },
      "source": [
        "## Prediction Function\n",
        "\n",
        "Given X and w, compute the predicted output. Do not forget to add 1's in X"
      ]
    },
    {
      "cell_type": "code",
      "execution_count": null,
      "metadata": {
        "deletable": false,
        "nbgrader": {
          "cell_type": "code",
          "checksum": "7b715eb6b4f2b77697550a46e173159a",
          "grade": false,
          "grade_id": "Prediction",
          "locked": false,
          "schema_version": 3,
          "solution": true,
          "task": false
        },
        "id": "3PRnu4F1oky7"
      },
      "outputs": [],
      "source": [
        "def Prediction (X, w): # Output should be a prediction vector y\n",
        "    '''\n",
        "    Compute Prediction given an input datamatrix X and weight vecor w. Output y = [X 1]w where 1 is a vector of all 1s\n",
        "    '''\n",
        "    # YOUR CODE HERE\n",
        "    n=[]\n",
        "    a=[1]\n",
        "    for i in range(len(X)):\n",
        "      n.append(a)\n",
        "    an_array = np.append(X, n, axis=1)\n",
        "    y= np.dot(an_array,w)\n",
        "    return y\n",
        "\n",
        "\n",
        "    # raise NotImplementedError()\n"
      ]
    },
    {
      "cell_type": "code",
      "execution_count": null,
      "metadata": {
        "deletable": false,
        "editable": false,
        "nbgrader": {
          "cell_type": "code",
          "checksum": "741f088432fb2ac3c49d3c9711d5c9c5",
          "grade": true,
          "grade_id": "PredictionTest",
          "locked": true,
          "points": 5,
          "schema_version": 3,
          "solution": false,
          "task": false
        },
        "id": "7vDdDzS4oky8"
      },
      "outputs": [],
      "source": [
        "'''\n",
        "TEST CASES, DO NOT CHANGE\n",
        "'''\n",
        "''' case 1 - Known input output matrix and weights 1'''\n",
        "X1 = np.array([[3,2],[1,1]])\n",
        "w1 = np.array([2,1,1])\n",
        "np.testing.assert_array_equal(Prediction(X1,w1),np.array([9,4]))\n"
      ]
    },
    {
      "cell_type": "markdown",
      "metadata": {
        "deletable": false,
        "editable": false,
        "nbgrader": {
          "cell_type": "markdown",
          "checksum": "bb888c2310846a4ec20a151ff4b44291",
          "grade": false,
          "grade_id": "cell-6fda2832d5967072",
          "locked": true,
          "schema_version": 3,
          "solution": false,
          "task": false
        },
        "id": "CE6c5oM2oky9"
      },
      "source": [
        "## Loss Functions\n",
        "\n",
        "Code the four  loss functions:\n",
        "\n",
        "1. MSE loss is only for the error\n",
        "2. MAE loss is only for the error\n",
        "3. L2 loss is for MSE and L2 regularization, and can call MSE loss\n",
        "4. L1 loss is for MSE and L1 regularization, and can call MSE loss"
      ]
    },
    {
      "cell_type": "code",
      "execution_count": null,
      "metadata": {
        "deletable": false,
        "nbgrader": {
          "cell_type": "code",
          "checksum": "834438a2ea2e2b52359b9620e36d82b2",
          "grade": false,
          "grade_id": "MSE_Loss",
          "locked": false,
          "schema_version": 3,
          "solution": true,
          "task": false
        },
        "id": "Vx4oUdwRoky-"
      },
      "outputs": [],
      "source": [
        "def MSE_Loss (X, t, w, lamda =0): # Ouput should be a single number\n",
        "    '''\n",
        "    lamda=0 is a default argument to prevent errors if you pass lamda to a function that doesn't need it by mistake.\n",
        "    This allows us to call all loss functions with the same input format.\n",
        "\n",
        "    You are encouraged read about default arguments by yourself online if you're not familiar.\n",
        "    '''\n",
        "    t_pred=Prediction(X,w)\n",
        "    mse = np.mean((t - t_pred)**2)\n",
        "    return mse\n",
        "\n",
        "\n",
        "\n",
        "    # raise NotImplementedError()"
      ]
    },
    {
      "cell_type": "code",
      "execution_count": null,
      "metadata": {
        "deletable": false,
        "editable": false,
        "nbgrader": {
          "cell_type": "code",
          "checksum": "923a1372a401b41d6ef6b0749a49ff66",
          "grade": true,
          "grade_id": "MSE_Loss_Test",
          "locked": true,
          "points": 2,
          "schema_version": 3,
          "solution": false,
          "task": false
        },
        "id": "beahjBNooky-"
      },
      "outputs": [],
      "source": [
        "'''\n",
        "TEST CASES, DO NOT CHANGE\n",
        "'''\n",
        "''' case 1 '''\n",
        "X=np.array([[3,6,5],[4.5,6.6,6]])\n",
        "t=np.array([4,5.5])\n",
        "w=np.array([2,-1,0.5,1])\n",
        "np.testing.assert_almost_equal(MSE_Loss(X,t,w),0.53,decimal=3)\n"
      ]
    },
    {
      "cell_type": "code",
      "execution_count": null,
      "metadata": {
        "deletable": false,
        "nbgrader": {
          "cell_type": "code",
          "checksum": "a6bc90c02aba76b8ca4072b0b5655560",
          "grade": false,
          "grade_id": "MAE_Loss",
          "locked": false,
          "schema_version": 3,
          "solution": true,
          "task": false
        },
        "id": "d6Pbd2AToky_"
      },
      "outputs": [],
      "source": [
        "def MAE_Loss (X, t, w, lamda = 0): # Output should be a single number\n",
        "    # YOUR CODE HERE\n",
        "    mae = np.sum(np.absolute(t - Prediction(X,w)))/len(t)\n",
        "    return mae\n",
        "\n",
        "\n",
        "\n",
        "    # raise NotImplementedError()"
      ]
    },
    {
      "cell_type": "code",
      "execution_count": null,
      "metadata": {
        "deletable": false,
        "editable": false,
        "nbgrader": {
          "cell_type": "code",
          "checksum": "f11d5fde7220893a9809f2954d18c5e5",
          "grade": true,
          "grade_id": "MAE_Loss_Test",
          "locked": true,
          "points": 2,
          "schema_version": 3,
          "solution": false,
          "task": false
        },
        "id": "3IRXwTLwoky_"
      },
      "outputs": [],
      "source": [
        "'''\n",
        "TEST CASES, DO NOT CHANGE\n",
        "'''\n",
        "''' case 1 '''\n",
        "X=np.array([[3,6,5],[4.5,6.6,6]])\n",
        "t=np.array([4,5.5])\n",
        "w=np.array([2,-1,0.5,1])\n",
        "np.testing.assert_almost_equal(MAE_Loss(X,t,w),0.700,decimal=3)\n"
      ]
    },
    {
      "cell_type": "code",
      "execution_count": null,
      "metadata": {
        "deletable": false,
        "nbgrader": {
          "cell_type": "code",
          "checksum": "8cbed9318984e9fb83254ad57d06436e",
          "grade": false,
          "grade_id": "L2_Loss",
          "locked": false,
          "schema_version": 3,
          "solution": true,
          "task": false
        },
        "id": "GJcMY6bPokzA"
      },
      "outputs": [],
      "source": [
        "\n",
        "def L2_Loss (X, t, w, lamda=0): # Output should be a single number\n",
        "    ''' Need to specify what inputs are'''\n",
        "    # YOUR CODE HERE\n",
        "    z=w[:-1]\n",
        "    # print(z)\n",
        "    t_pred=Prediction(X,w)\n",
        "    l2 = np.mean((t - t_pred)**2) + lamda *(np.sqrt(np.dot(z,np.transpose(z))))\n",
        "\n",
        "    return l2\n",
        "\n",
        "\n",
        "    # raise NotImplementedError()"
      ]
    },
    {
      "cell_type": "code",
      "execution_count": null,
      "metadata": {
        "deletable": false,
        "editable": false,
        "nbgrader": {
          "cell_type": "code",
          "checksum": "a5a409056f6797cdf8cbfab61b138c37",
          "grade": true,
          "grade_id": "L2_Loss_Test",
          "locked": true,
          "points": 2,
          "schema_version": 3,
          "solution": false,
          "task": false
        },
        "id": "DQJBvFVnokzA"
      },
      "outputs": [],
      "source": [
        "'''\n",
        "TEST CASES, DO NOT CHANGE\n",
        "'''\n",
        "''' case 1 '''\n",
        "X=np.array([[3,6,5],[4.5,6.6,6]])\n",
        "t=np.array([4,5.5])\n",
        "w=np.array([2,-1,0.5,1])\n",
        "np.testing.assert_almost_equal(L2_Loss(X,t,w,0.5),1.675,decimal=3)\n"
      ]
    },
    {
      "cell_type": "code",
      "execution_count": null,
      "metadata": {
        "deletable": false,
        "nbgrader": {
          "cell_type": "code",
          "checksum": "bb055d3436a79fb3acb7535956f57466",
          "grade": false,
          "grade_id": "L1_Loss",
          "locked": false,
          "schema_version": 3,
          "solution": true,
          "task": false
        },
        "id": "1YwydMcAokzA"
      },
      "outputs": [],
      "source": [
        "def L1_Loss (X, t, w, lamda): # Output should be a single number\n",
        "    # YOUR CODE HERE\n",
        "\n",
        "    z=w[:-1]\n",
        "    # print(z)\n",
        "    t_pred=Prediction(X,w)\n",
        "    l1 = np.mean((t - t_pred)**2) + lamda *(sum(np.abs(z)))\n",
        "    return l1\n",
        "    # raise NotImplementedError()"
      ]
    },
    {
      "cell_type": "code",
      "execution_count": null,
      "metadata": {
        "deletable": false,
        "editable": false,
        "nbgrader": {
          "cell_type": "code",
          "checksum": "40224dd69dd8e6499a67271c33701bf4",
          "grade": true,
          "grade_id": "L1_Loss_Test",
          "locked": true,
          "points": 2,
          "schema_version": 3,
          "solution": false,
          "task": false
        },
        "id": "IYLTEnR5okzB"
      },
      "outputs": [],
      "source": [
        "'''\n",
        "TEST CASES, DO NOT CHANGE\n",
        "'''\n",
        "''' case 1 '''\n",
        "X=np.array([[3,6,5],[4.5,6.6,6]])\n",
        "t=np.array([4,5.5])\n",
        "w=np.array([2,-1,0.5,1])\n",
        "np.testing.assert_almost_equal(L1_Loss(X,t,w,0.5),2.280,decimal=3)\n"
      ]
    },
    {
      "cell_type": "code",
      "execution_count": null,
      "metadata": {
        "deletable": false,
        "nbgrader": {
          "cell_type": "code",
          "checksum": "b6143269d14fa4e9b9a54a90f229620c",
          "grade": false,
          "grade_id": "NRMSE_Loss",
          "locked": false,
          "schema_version": 3,
          "solution": true,
          "task": false
        },
        "id": "GgsKvizNokzB"
      },
      "outputs": [],
      "source": [
        "def NRMSE_Loss (X, t, w): # Output should be a single number\n",
        "    # YOUR CODE HERE\n",
        "    t_pred=Prediction(X,w)\n",
        "    nrmse=np.sqrt(np.mean((t - t_pred)**2))/np.std(t)\n",
        "    return nrmse\n",
        "\n",
        "\n",
        "  # raise NotImplementedError()\n"
      ]
    },
    {
      "cell_type": "code",
      "execution_count": null,
      "metadata": {
        "deletable": false,
        "editable": false,
        "nbgrader": {
          "cell_type": "code",
          "checksum": "06456562aa2ed36b11c7d40c52610133",
          "grade": true,
          "grade_id": "NRMSE_Loss_Test",
          "locked": true,
          "points": 2,
          "schema_version": 3,
          "solution": false,
          "task": false
        },
        "id": "A15tcCFqokzB"
      },
      "outputs": [],
      "source": [
        "'''\n",
        "TEST CASES, DO NOT CHANGE\n",
        "'''\n",
        "''' Test case 1 '''\n",
        "X=np.array([[3,6,5],[4.5,6.6,6]])\n",
        "t=np.array([4,5.5])\n",
        "w=np.array([2,-1,0.5,1])\n",
        "np.testing.assert_almost_equal(NRMSE_Loss(X,t,w),0.970,decimal=3)\n"
      ]
    },
    {
      "cell_type": "markdown",
      "metadata": {
        "deletable": false,
        "editable": false,
        "nbgrader": {
          "cell_type": "markdown",
          "checksum": "32344ab855de7c731a225d416924e47d",
          "grade": false,
          "grade_id": "Gradient_Title",
          "locked": true,
          "schema_version": 3,
          "solution": false,
          "task": false
        },
        "id": "zAJLKJNNokzC"
      },
      "source": [
        "## Gradient function\n",
        "Each Loss function will have its own gradient function:\n",
        "\n",
        "1. MSE gradient is only for the error\n",
        "2. MAE gradient is only for the error\n",
        "3. L2 gradient is for MSE and L2 regularization, and can call MSE gradient\n",
        "4. L1 gradient is for MSE and L1 regularization, and can call MSE gradient"
      ]
    },
    {
      "cell_type": "code",
      "execution_count": null,
      "metadata": {
        "deletable": false,
        "nbgrader": {
          "cell_type": "code",
          "checksum": "c1c5a97c25a41dac499e5c245f9166b7",
          "grade": false,
          "grade_id": "MSE_Gradient",
          "locked": false,
          "schema_version": 3,
          "solution": true,
          "task": false
        },
        "id": "BZpqHWhBokzC"
      },
      "outputs": [],
      "source": [
        "def MSE_Gradient (X, t, w, lamda=0):\n",
        "    # YOUR CODE HERE\n",
        "    t_pred=Prediction(X,w)\n",
        "    n=[]\n",
        "    a=[1]\n",
        "    for i in range(len(X)):\n",
        "      n.append(a)\n",
        "    an_array = np.append(X, n, axis=1)\n",
        "    grad= -(np.dot(np.transpose(an_array),(t- t_pred)))\n",
        "    return grad\n",
        "\n",
        "    # raise NotImplementedError()"
      ]
    },
    {
      "cell_type": "code",
      "execution_count": null,
      "metadata": {
        "deletable": false,
        "editable": false,
        "nbgrader": {
          "cell_type": "code",
          "checksum": "d61466927592a8776a8bfa688472bad4",
          "grade": true,
          "grade_id": "MSE_Gradient_Test",
          "locked": true,
          "points": 3,
          "schema_version": 3,
          "solution": false,
          "task": false
        },
        "id": "eLjolBskokzC"
      },
      "outputs": [],
      "source": [
        "'''\n",
        "TEST CASES, DO NOT CHANGE\n",
        "'''\n",
        "''' case 1 '''\n",
        "X=np.array([[3,6,5],[4.5,6.6,6]])\n",
        "t=np.array([4,5.5])\n",
        "w=np.array([2,-1,0.5,1])\n",
        "np.testing.assert_array_almost_equal(MSE_Gradient(X,t,w),np.array([2.55, 2.94, 2.9 , 0.4 ]),decimal=3)\n"
      ]
    },
    {
      "cell_type": "code",
      "execution_count": null,
      "metadata": {
        "deletable": false,
        "nbgrader": {
          "cell_type": "code",
          "checksum": "3d7fb24daaa75279588b80e4a10cc8c6",
          "grade": false,
          "grade_id": "MAE_Gradient",
          "locked": false,
          "schema_version": 3,
          "solution": true,
          "task": false
        },
        "id": "YFF1-wxfokzD"
      },
      "outputs": [],
      "source": [
        "def MAE_Gradient (X, t, w, lamda=0): # Output should have the same size as w\n",
        "    # YOUR CODE HERE\n",
        "    t_pred=Prediction(X,w)\n",
        "    n=[]\n",
        "    a=[1]\n",
        "    for i in range(len(X)):\n",
        "      n.append(a)\n",
        "    an_array = np.append(X, n, axis=1)\n",
        "    p=[]\n",
        "    for i in range(len(t)):\n",
        "      # print(t[i])\n",
        "      # print(t_pred[i])\n",
        "      if (t[i] > t_pred[i] ):\n",
        "        p.append(1)\n",
        "      else:\n",
        "        p.append(-1)\n",
        "\n",
        "    p= np.transpose(p)\n",
        "    # print(p)\n",
        "\n",
        "    mae=np.abs(np.dot(np.transpose(an_array),p))/len(t)\n",
        "\n",
        "    return mae\n",
        "\n",
        "\n",
        "    # raise NotImplementedError()"
      ]
    },
    {
      "cell_type": "code",
      "execution_count": null,
      "metadata": {
        "deletable": false,
        "editable": false,
        "nbgrader": {
          "cell_type": "code",
          "checksum": "e1d418bf5351112ae8716877f8bb6359",
          "grade": true,
          "grade_id": "MAE_Gradient_Test",
          "locked": true,
          "points": 3,
          "schema_version": 3,
          "solution": false,
          "task": false
        },
        "id": "1bBoPfiMokzD"
      },
      "outputs": [],
      "source": [
        "'''\n",
        "TEST CASES, DO NOT CHANGE\n",
        "'''\n",
        "''' case 1 '''\n",
        "X=np.array([[3,6,5],[4.5,6.6,6]])\n",
        "t=np.array([4,5.5])\n",
        "w=np.array([2,-1,0.5,1])\n",
        "np.testing.assert_array_almost_equal(MAE_Gradient(X,t,w),np.array([0.75,  0.3 ,  0.5 , 0.]),decimal=3)\n"
      ]
    },
    {
      "cell_type": "code",
      "execution_count": null,
      "metadata": {
        "deletable": false,
        "nbgrader": {
          "cell_type": "code",
          "checksum": "bee96dccc2e2096ed187b41cb4e81f4e",
          "grade": false,
          "grade_id": "L2_Gradient",
          "locked": false,
          "schema_version": 3,
          "solution": true,
          "task": false
        },
        "id": "qmlR91dzokzD"
      },
      "outputs": [],
      "source": [
        "\n",
        "def L2_Gradient (X, t, w, lamda): # Output should have the same size as w\n",
        "    # YOUR CODE HERE\n",
        "    # t_pred=Prediction(X,w)\n",
        "    # t_pred=Prediction(X,w)\n",
        "    z=w[:-1]\n",
        "    z=np.append(z,0)\n",
        "\n",
        "    # l2grad= (lamda * w)\n",
        "    # print(MSE_Gradient (X, t, w))\n",
        "    l2_grad = MSE_Gradient (X, t, w) + lamda * z/np.linalg.norm(z)\n",
        "\n",
        "\n",
        "    return l2_grad\n",
        "\n",
        "\n",
        "    # raise NotImplementedError()"
      ]
    },
    {
      "cell_type": "code",
      "execution_count": null,
      "metadata": {
        "deletable": false,
        "editable": false,
        "nbgrader": {
          "cell_type": "code",
          "checksum": "f292b42c3389b24e369234a7210b87bb",
          "grade": true,
          "grade_id": "L2_Gradient_Test",
          "locked": true,
          "points": 3,
          "schema_version": 3,
          "solution": false,
          "task": false
        },
        "id": "6lxwah-zokzD"
      },
      "outputs": [],
      "source": [
        "'''\n",
        "TEST CASES, DO NOT CHANGE\n",
        "'''\n",
        "''' case 1 '''\n",
        "X=np.array([[3,6,5],[4.5,6.6,6]])\n",
        "t=np.array([4,5.5])\n",
        "w=np.array([2,-1,0.5,1])\n",
        "np.testing.assert_array_almost_equal(L2_Gradient(X,t,w,0.5),np.array([2.986, 2.721, 3.009 , 0.4 ]),decimal=3)\n"
      ]
    },
    {
      "cell_type": "code",
      "execution_count": null,
      "metadata": {
        "deletable": false,
        "nbgrader": {
          "cell_type": "code",
          "checksum": "5bff06a852c13effc51014992ffce310",
          "grade": false,
          "grade_id": "L1_Gradient",
          "locked": false,
          "schema_version": 3,
          "solution": true,
          "task": false
        },
        "id": "a6P-GUZ0okzE"
      },
      "outputs": [],
      "source": [
        "# from numpy.core.numeric import zeros_like\n",
        "def L1_Gradient (X, t, w, lamda): # Output should have the same size as w\n",
        "    # YOUR CODE HERE\n",
        "    z=w[:-1]\n",
        "    z=np.append(z,0)\n",
        "    a=[]\n",
        "    for i in range(len(z)):\n",
        "      if (z[i] > 0):\n",
        "        a.append(1)\n",
        "      elif( z[i] < 0):\n",
        "        a.append(-1)\n",
        "      else:\n",
        "        a.append(0)\n",
        "      b= np.array(a)\n",
        "    l1_grad= MSE_Gradient (X, t, w) + lamda * b\n",
        "    return l1_grad\n",
        "\n",
        "\n",
        "\n",
        "    # raise NotImplementedError()"
      ]
    },
    {
      "cell_type": "code",
      "execution_count": null,
      "metadata": {
        "deletable": false,
        "editable": false,
        "nbgrader": {
          "cell_type": "code",
          "checksum": "9097b61320e470f429a9f46c7da0b219",
          "grade": true,
          "grade_id": "L1_Gradient_Test",
          "locked": true,
          "points": 3,
          "schema_version": 3,
          "solution": false,
          "task": false
        },
        "id": "dITScW5pokzE"
      },
      "outputs": [],
      "source": [
        "'''\n",
        "TEST CASES, DO NOT CHANGE\n",
        "'''\n",
        "''' case 1 '''\n",
        "X=np.array([[3,6,5],[4.5,6.6,6]])\n",
        "t=np.array([4,5.5])\n",
        "w=np.array([2,-1,0.5,1])\n",
        "np.testing.assert_array_almost_equal(L1_Gradient(X,t,w,0.5),np.array([3.05, 2.44, 3.4 , 0.4 ]),decimal=3)\n"
      ]
    },
    {
      "cell_type": "markdown",
      "metadata": {
        "deletable": false,
        "editable": false,
        "nbgrader": {
          "cell_type": "markdown",
          "checksum": "1980a2f831b5e1ddc9b510c22ef502c7",
          "grade": false,
          "grade_id": "Gradient_Desc_Title",
          "locked": true,
          "schema_version": 3,
          "solution": false,
          "task": false
        },
        "id": "4ZsJWrKWokzE"
      },
      "source": [
        "## Gradient Descent Function\n"
      ]
    },
    {
      "cell_type": "code",
      "execution_count": null,
      "metadata": {
        "deletable": false,
        "nbgrader": {
          "cell_type": "code",
          "checksum": "bba475ce42b2b792bf6e62dd34a82a98",
          "grade": false,
          "grade_id": "Gradient_Descent",
          "locked": false,
          "schema_version": 3,
          "solution": true,
          "task": false
        },
        "id": "fnlmpgxaokzF",
        "colab": {
          "base_uri": "https://localhost:8080/",
          "height": 201
        },
        "outputId": "38e06ca4-93ca-48eb-a4b3-590d9300166f"
      },
      "outputs": [
        {
          "output_type": "error",
          "ename": "NameError",
          "evalue": "ignored",
          "traceback": [
            "\u001b[0;31m---------------------------------------------------------------------------\u001b[0m",
            "\u001b[0;31mNameError\u001b[0m                                 Traceback (most recent call last)",
            "\u001b[0;32m<ipython-input-12-790fbd16d3bb>\u001b[0m in \u001b[0;36m<module>\u001b[0;34m()\u001b[0m\n\u001b[1;32m     21\u001b[0m     \u001b[0;32mreturn\u001b[0m \u001b[0mw_final\u001b[0m\u001b[0;34m,\u001b[0m \u001b[0mtrain_loss_final\u001b[0m\u001b[0;34m,\u001b[0m \u001b[0mvalidation_loss_final\u001b[0m\u001b[0;34m,\u001b[0m \u001b[0mvalidation_NRMSE\u001b[0m \u001b[0;31m#You should return variables structured like this\u001b[0m\u001b[0;34m\u001b[0m\u001b[0;34m\u001b[0m\u001b[0m\n\u001b[1;32m     22\u001b[0m \u001b[0;34m\u001b[0m\u001b[0m\n\u001b[0;32m---> 23\u001b[0;31m \u001b[0mGradient_Descent\u001b[0m \u001b[0;34m(\u001b[0m\u001b[0mX\u001b[0m\u001b[0;34m,\u001b[0m \u001b[0mX_val\u001b[0m\u001b[0;34m,\u001b[0m \u001b[0mt\u001b[0m\u001b[0;34m,\u001b[0m \u001b[0mt_val\u001b[0m\u001b[0;34m,\u001b[0m \u001b[0mw\u001b[0m\u001b[0;34m,\u001b[0m \u001b[0;36m0.1\u001b[0m\u001b[0;34m,\u001b[0m \u001b[0;36m100\u001b[0m\u001b[0;34m,\u001b[0m \u001b[0;36m1e-10\u001b[0m\u001b[0;34m,\u001b[0m \u001b[0;36m1e-5\u001b[0m\u001b[0;34m,\u001b[0m \u001b[0mL2_Loss\u001b[0m\u001b[0;34m,\u001b[0m\u001b[0mL2_Gradient\u001b[0m\u001b[0;34m)\u001b[0m\u001b[0;34m\u001b[0m\u001b[0;34m\u001b[0m\u001b[0m\n\u001b[0m",
            "\u001b[0;31mNameError\u001b[0m: name 'X' is not defined"
          ]
        }
      ],
      "source": [
        "\n",
        "\n",
        "def Gradient_Descent (X, X_val, t, t_val, w, lamda, max_iter, epsilon, lr, lossfunc, gradfunc): # See output format in 'return' statement\n",
        "    # YOUR CODE HERE\n",
        "    # raise NotImplementedError()\n",
        "    i=0\n",
        "    train_loss_final = 0\n",
        "    w_final =w\n",
        "    while (i <= max_iter):X=np.array([[23,24],[1,2]])\n",
        "    t=np.array([4,5])\n",
        "    X_val=np.array([[3,4],[5,6]])\n",
        "    t_val=np.array([3,4])\n",
        "    w=np.array([3,2,1])\n",
        "    w_final= w -  lr * gradfunc(X, t, w, lamda)\n",
        "    train_loss_final =lossfunc(X, t, w_final, lamda)\n",
        "    w= w_final\n",
        "    i+=1\n",
        "\n",
        "    validation_loss_final=  lossfunc(X_val, t_val, w_final, lamda)\n",
        "    validation_NRMSE = NRMSE_Loss(X_val, t_val, w_final)\n",
        "    return w_final, train_loss_final, validation_loss_final, validation_NRMSE #You should return variables structured like this\n",
        "\n",
        "Gradient_Descent (X, X_val, t, t_val, w, 0.1, 100, 1e-10, 1e-5, L2_Loss,L2_Gradient)\n"
      ]
    },
    {
      "cell_type": "code",
      "execution_count": null,
      "metadata": {
        "deletable": false,
        "editable": false,
        "nbgrader": {
          "cell_type": "code",
          "checksum": "d10bf1b8996cb4e5d731533ab882eaa2",
          "grade": true,
          "grade_id": "Gradient_Check",
          "locked": true,
          "points": 20,
          "schema_version": 3,
          "solution": false,
          "task": false
        },
        "id": "Gp-kC7iBokzF"
      },
      "outputs": [],
      "source": [
        "'''\n",
        "TEST CASES, DO NOT CHANGE\n",
        "'''\n",
        "X=np.array([[23,24],[1,2]])\n",
        "t=np.array([4,5])\n",
        "X_val=np.array([[3,4],[5,6]])\n",
        "t_val=np.array([3,4])\n",
        "w=np.array([3,2,1])\n",
        "results =Gradient_Descent (X, X_val, t, t_val, w, 0.1, 100, 1e-10, 1e-5, L2_Loss,L2_Gradient)\n",
        "np.testing.assert_allclose([results[1]],[697.919],rtol =0.05)\n",
        "np.testing.assert_allclose([results[2]],[20],atol=5) # we expect around 17.5  but some students got 24 which we will also accept\n",
        "#Instructor Values of results[1] and results [2] are 697.919 and 17.512 respectively"
      ]
    },
    {
      "cell_type": "markdown",
      "metadata": {
        "deletable": false,
        "editable": false,
        "nbgrader": {
          "cell_type": "markdown",
          "checksum": "454ff10ef4f228e28cf5dc32b02a46b0",
          "grade": false,
          "grade_id": "PseudoInvTitle",
          "locked": true,
          "schema_version": 3,
          "solution": false,
          "task": false
        },
        "id": "M75l_wFCokzF"
      },
      "source": [
        "## Pseudo Inverse Method\n",
        "\n",
        "You have to implement a slightly more advanced version, with L2 penalty:\n",
        "\n",
        "w = (X' X + lambda I)^(-1) X' t.\n",
        "\n",
        "See, for example: Section 2 of https://web.mit.edu/zoya/www/linearRegression.pdf"
      ]
    },
    {
      "cell_type": "code",
      "execution_count": null,
      "metadata": {
        "deletable": false,
        "nbgrader": {
          "cell_type": "code",
          "checksum": "cb4fed33ae855881d92f2d0bee916fd7",
          "grade": false,
          "grade_id": "PseudoInv",
          "locked": false,
          "schema_version": 3,
          "solution": true,
          "task": false
        },
        "id": "7ZAU-Td1okzF"
      },
      "outputs": [],
      "source": [
        "def Pseudo_Inverse (X, t, lamda): # Output should be weight vector\n",
        "    # YOUR CODE HERE\n",
        "  n=[]\n",
        "  a=[1]\n",
        "  for i in range(len(X)):\n",
        "      n.append(a)\n",
        "  r = np.append(X, n, axis=1)\n",
        "  w= np.dot(np.linalg.inv(np.dot(np.transpose(r),r) + lamda *np.identity(len(np.dot(np.transpose(r),r)))),np.dot(np.transpose(r),t))\n",
        "  return w\n",
        "\n",
        "    #raise NotImplementedError()"
      ]
    },
    {
      "cell_type": "code",
      "execution_count": null,
      "metadata": {
        "deletable": false,
        "editable": false,
        "nbgrader": {
          "cell_type": "code",
          "checksum": "a5178b8280650ed5d1d55dc6bbb38a29",
          "grade": true,
          "grade_id": "PseudoInvTest",
          "locked": true,
          "points": 10,
          "schema_version": 3,
          "solution": false,
          "task": false
        },
        "id": "50jkxZybokzF"
      },
      "outputs": [],
      "source": [
        "'''\n",
        "TEST CASES, DO NOT CHANGE\n",
        "'''\n",
        "''' case 1 - other data'''\n",
        "X=np.array([[3,6,5],[4.5,6.6,6]])\n",
        "t=np.array([4,5.5])\n",
        "np.testing.assert_array_almost_equal(Pseudo_Inverse(X,t,0.5),np.array([ 0.491,  0.183,  0.319, -0.002]),decimal=3)"
      ]
    },
    {
      "cell_type": "markdown",
      "source": [
        "#Save the code above this as a RollNo1_RollNo2_1.py file after running the test blocks to make sure there are no errors."
      ],
      "metadata": {
        "id": "vwFm7JnBXDff"
      }
    },
    {
      "cell_type": "markdown",
      "source": [
        "#**... Part 1 ends**\n",
        "Below this you be more creative. Just comment out the lines where you save files (e.g. test predictions)."
      ],
      "metadata": {
        "id": "AboSSuSpw3RB"
      }
    },
    {
      "cell_type": "markdown",
      "source": [
        "#**Part 2 begins ...**\n",
        "\n",
        "**Instructions to be loosely followed (except number 8):**\n",
        "\n",
        "1. Add more code and text cells between this and the last cell.\n",
        "2. Read training data from: https://www.ee.iitb.ac.in/~asethi/Dump/TempTrain.csv only. Do not use a local copy of the dataset.\n",
        "3. Find the best lamda for **MSE+lamda*L2(w)** loss function. Plot training and validation RMSE vs. 1/lamda (1/lamda represents model complexity). Print weights, validation RMSE, validation NMSE for the best lamda.\n",
        "4. Find the best lamda for **MSE+lamda*L1(w)** loss function. Plot training and validation RMSE vs. 1/lamda (1/lamda represents model complexity). Print weights, validation RMSE, validation NMSE for the best lamda.\n",
        "5. Find the best lamda for the **pseudo-inv method**. Plot training and validation RMSE vs. 1/lamda (1/lamda represents model complexity). Print weights, validation RMSE, validation NMSE for the best lamda.\n",
        "6. Write your observations and conclusions.\n",
        "7. Read test data from: https://www.ee.iitb.ac.in/~asethi/Dump/TempTest.csv only. Do not use a local copy of the dataset. Predict its dependent (missing last column) using the model with the lowest MSE, RMSE, or NMSE. Save it as a file RollNo1_RollNo2_1.csv.\n",
        "8. **Disable the prediction csv file saving statement and submit this entire .ipynb file (part 1 and part 2), .py file (part 1 only), and .csv file as a single RollNo1_RollNo2_1.zip file.**\n"
      ],
      "metadata": {
        "id": "wNxr2zopT59T"
      }
    },
    {
      "cell_type": "code",
      "source": [
        "dataset= pd.read_csv(\"TempTrain.csv\")\n",
        "index=dataset.index\n",
        "split_value = int(0.8*len(index))\n",
        "train = dataset.iloc[:split_value,:]\n",
        "test = dataset.iloc[split_value:,:]\n",
        "x_train = train.iloc[:,:-1].values\n",
        "x_train=Normalize(x_train)\n",
        "y_train = train.iloc[:,-1].values\n",
        "# y_train= Normalize(y_train)\n",
        "x_test = test.iloc[:,:-1].values\n",
        "x_test=Normalize(x_test)\n",
        "y_test = test.iloc[:,-1].values\n",
        "\n",
        "print(len(x_test))"
      ],
      "metadata": {
        "id": "7kVcf16s5k5X",
        "colab": {
          "base_uri": "https://localhost:8080/"
        },
        "outputId": "a8d201c6-5d8d-4563-e5fe-16d53f0d7785"
      },
      "execution_count": null,
      "outputs": [
        {
          "output_type": "stream",
          "name": "stdout",
          "text": [
            "1217\n"
          ]
        }
      ]
    },
    {
      "cell_type": "code",
      "source": [
        "\n",
        "def Gradient_Descentx (X, t, w, lamda, max_iter, lr, lossfunc, gradfunc): # See output format in 'return' statement\n",
        "    i=0\n",
        "    train_loss_final = 0\n",
        "    w_final =w\n",
        "    while (i <= max_iter):\n",
        "        w_final=np.round( w -  lr * gradfunc(X, t, w, lamda),decimals=2)\n",
        "        w= w_final\n",
        "        i+=1\n",
        "    return w_final\n",
        "\n"
      ],
      "metadata": {
        "id": "haV2mPqbJCIh"
      },
      "execution_count": null,
      "outputs": []
    },
    {
      "cell_type": "code",
      "source": [
        "lamda_value = []\n",
        "bylamda=[]\n",
        "a=0.001\n",
        "for i in range(20):\n",
        "  b=a*10\n",
        "  lamda_value.append(b)\n",
        "  a=b\n",
        "\n",
        "for i in range(len(lamda_value)):\n",
        "  bylamda.append(1/(lamda_value[i]))\n",
        "\n",
        "np.random.seed(42)\n",
        "z=0\n",
        "\n",
        "w_final=[]\n",
        "x_value=x_train\n",
        "y_value = y_train\n",
        "x_index= x_value.shape\n",
        "x_column= x_index[1]\n",
        "w= np.random.rand(x_column+1)\n",
        "for i in range(len(lamda_value)):\n",
        "    w_final.append(Gradient_Descentx(x_value, y_value, w, lamda_value[i],100,1e-5 ,L2_Loss,L2_Gradient))"
      ],
      "metadata": {
        "id": "rolvPx_6Q1_j"
      },
      "execution_count": null,
      "outputs": []
    },
    {
      "cell_type": "code",
      "source": [
        "loss1=[]\n",
        "for i in range(len(lamda_value)):\n",
        "    loss1.append(np.round(MSE_Loss (x_train, y_train, w_final[i]) + lamda_value[i] * L2_Loss(x_train, y_train, w_final[i]),decimals= 2))\n",
        "\n",
        "plt.plot(lamda_value,loss1)\n",
        "plt.plot(np.min(lamda_value),np.min(loss1),'s')\n",
        "plt.xlabel(\"lamda \")\n",
        "plt.ylabel(\"lamdaxL2 + MSE\")\n",
        "plt.text(np.min(lamda_value),np.min(loss1),'({}, {})'.format(np.min(lamda_value), np.min(loss1)))\n",
        "plt.show()\n"
      ],
      "metadata": {
        "id": "VdhS9Q2Atple"
      },
      "execution_count": null,
      "outputs": []
    },
    {
      "cell_type": "code",
      "source": [
        "#by lamda vs nrmse\n",
        "nrmseloss1=[]\n",
        "for i in range(len(lamda_value)):\n",
        "  nrmseloss1.append(np.round(NRMSE_Loss (x_train, y_train, w_final[i]),decimals= 2))\n",
        "\n",
        "plt.plot(bylamda,nrmseloss1)\n",
        "plt.xlabel(\"1 / lamda\")\n",
        "plt.ylabel(\" train loss\")\n",
        "plt.text(np.max(bylamda),np.min(nrmseloss1),'({}, {})'.format(np.max(bylamda), np.min(nrmseloss1)))\n",
        "plt.show()\n",
        "\n",
        "\n",
        "vx=[]\n",
        "for i in range(len(lamda_value)):\n",
        "   vx.append(np.round(NRMSE_Loss (x_test, y_test, w_final[i]),decimals= 2))\n",
        "plt.plot(bylamda,vx)\n",
        "plt.xlabel(\"1/ lamda\")\n",
        "plt.ylabel(\"test loss\")\n",
        "plt.text(np.max(bylamda),np.min(vx),'({}, {})'.format(np.max(bylamda), np.min(vx)))\n",
        "plt.show()\n"
      ],
      "metadata": {
        "colab": {
          "base_uri": "https://localhost:8080/",
          "height": 563
        },
        "id": "F0QdxFWZg1nk",
        "outputId": "f8811aaa-ba22-4d72-8c61-15257c06d9ae"
      },
      "execution_count": null,
      "outputs": [
        {
          "output_type": "display_data",
          "data": {
            "image/png": "[encoded data removed]",
            "text/plain": [
              "<Figure size 432x288 with 1 Axes>"
            ]
          },
          "metadata": {
            "needs_background": "light"
          }
        },
        {
          "output_type": "display_data",
          "data": {
            "image/png": "[encoded data removed]",
            "text/plain": [
              "<Figure size 432x288 with 1 Axes>"
            ]
          },
          "metadata": {
            "needs_background": "light"
          }
        }
      ]
    },
    {
      "cell_type": "code",
      "source": [
        "print( \"best lamda value\",np.min(lamda_value))\n",
        "print(\"weights for best lamda \", w_final[0])\n",
        "print(\"lowest nrmse for train set \" ,np.min(nrmseloss1))\n",
        "print(\"lowest nrmse for test set \", np.min(vx))\n"
      ],
      "metadata": {
        "colab": {
          "base_uri": "https://localhost:8080/"
        },
        "id": "CB-vABpfxbWd",
        "outputId": "072b1614-0cfa-4d27-82bc-65c5daf362e3"
      },
      "execution_count": null,
      "outputs": [
        {
          "output_type": "stream",
          "name": "stdout",
          "text": [
            "best lamda value 0.01\n",
            "weights for best lamda  [ 5.100e-01  4.300e-01 -2.000e-02 -1.500e-01  1.100e+00  1.900e-01\n",
            " -4.500e-01  3.300e-01 -3.100e-01 -1.000e-01 -6.600e-01  1.900e-01\n",
            " -0.000e+00  1.000e-01 -2.000e-02 -9.000e-02 -1.000e-02  2.000e-02\n",
            "  1.100e-01  4.000e-02  2.700e-01  2.978e+01]\n",
            "lowest nrmse for train set  0.55\n",
            "lowest nrmse for test set  0.62\n"
          ]
        }
      ]
    },
    {
      "cell_type": "code",
      "source": [
        "loss2=[]\n",
        "for i in range(len(lamda_value)):\n",
        "    loss2.append(np.round(MSE_Loss (x_train, y_train, w_final[i]) + lamda_value[i] * L1_Loss(x_train, y_train, w_final[i],0),decimals= 3))\n",
        "\n",
        "plt.plot(lamda_value,loss2)\n",
        "plt.xlabel(\"lamda \")\n",
        "plt.ylabel(\"loss L1 + MSE\")\n",
        "plt.text(lamda_value[0],loss1[0],'({}, {})'.format(lamda_value[0], loss1[0]))\n",
        "plt.plot(lamda_value[0],loss1[0],'s')\n",
        "plt.show()\n",
        "\n"
      ],
      "metadata": {
        "colab": {
          "base_uri": "https://localhost:8080/",
          "height": 290
        },
        "id": "gvaYGM2ycJ61",
        "outputId": "7bc06d68-29bf-418b-ef47-eb84f83a1bf2"
      },
      "execution_count": null,
      "outputs": [
        {
          "output_type": "display_data",
          "data": {
            "image/png": "[encoded data removed]",
            "text/plain": [
              "<Figure size 432x288 with 1 Axes>"
            ]
          },
          "metadata": {
            "needs_background": "light"
          }
        }
      ]
    },
    {
      "cell_type": "code",
      "source": [
        "nrmseloss2=[]\n",
        "for i in range(len(lamda_value)):\n",
        "  nrmseloss2.append(np.round(NRMSE_Loss (x_train, y_train, w_final[i]),decimals= 2))\n",
        "\n",
        "plt.plot(bylamda,nrmseloss1)\n",
        "plt.xlabel(\"1 / lamda\")\n",
        "plt.ylabel(\" train loss\")\n",
        "plt.text(np.max(bylamda),np.min(nrmseloss1),'({}, {})'.format(np.max(bylamda), np.min(nrmseloss1)))\n",
        "plt.show()\n",
        "\n",
        "\n",
        "vx2=[]\n",
        "for i in range(len(lamda_value)):\n",
        "   vx2.append(np.round(NRMSE_Loss (x_test, y_test, w_final[i]),decimals= 2))\n",
        "plt.plot(bylamda,vx2)\n",
        "plt.xlabel(\"1/ lamda\")\n",
        "plt.ylabel(\"test loss\")\n",
        "plt.text(np.max(bylamda),np.min(vx),'({}, {})'.format(np.max(bylamda), np.min(vx2)))\n",
        "plt.show()\n"
      ],
      "metadata": {
        "colab": {
          "base_uri": "https://localhost:8080/",
          "height": 563
        },
        "id": "UYiqeWxhvB7L",
        "outputId": "47d14c4c-23ff-4327-e4f2-9119e60f11be"
      },
      "execution_count": null,
      "outputs": [
        {
          "output_type": "display_data",
          "data": {
            "image/png": "[encoded data removed]",
            "text/plain": [
              "<Figure size 432x288 with 1 Axes>"
            ]
          },
          "metadata": {
            "needs_background": "light"
          }
        },
        {
          "output_type": "display_data",
          "data": {
            "image/png": "[encoded data removed]",
            "text/plain": [
              "<Figure size 432x288 with 1 Axes>"
            ]
          },
          "metadata": {
            "needs_background": "light"
          }
        }
      ]
    },
    {
      "cell_type": "code",
      "source": [
        "print( \"best lamda value\",np.min(lamda_value))\n",
        "print(\"weights for best lamda \", w_final[0])\n",
        "print(\"lowest nrmse for train set \" ,np.min(nrmseloss2))\n",
        "print(\"lowest nrmse for test set \", np.min(vx2))"
      ],
      "metadata": {
        "colab": {
          "base_uri": "https://localhost:8080/"
        },
        "id": "l_TikxV3ym9e",
        "outputId": "e746f92b-ac1f-4aad-9eee-352c38bc626e"
      },
      "execution_count": null,
      "outputs": [
        {
          "output_type": "stream",
          "name": "stdout",
          "text": [
            "best lamda value 0.01\n",
            "weights for best lamda  [ 5.100e-01  4.300e-01 -2.000e-02 -1.500e-01  1.100e+00  1.900e-01\n",
            " -4.500e-01  3.300e-01 -3.100e-01 -1.000e-01 -6.600e-01  1.900e-01\n",
            " -0.000e+00  1.000e-01 -2.000e-02 -9.000e-02 -1.000e-02  2.000e-02\n",
            "  1.100e-01  4.000e-02  2.700e-01  2.978e+01]\n",
            "lowest nrmse for train set  0.55\n",
            "lowest nrmse for test set  0.62\n"
          ]
        }
      ]
    },
    {
      "cell_type": "code",
      "source": [
        "w_in=[]\n",
        "\n",
        "for i in range(len(lamda_value)):\n",
        "    w_in.append(Pseudo_Inverse (x_train, y_train, lamda_value[i]))\n",
        "loss3=[]\n",
        "for i in range(len(w_in)):\n",
        "  loss3.append(np.round(MSE_Loss (x_train, y_train, w_in[i]) + lamda_value[i] * L1_Loss(x_train, y_train, w_in[i],0),decimals= 3))\n",
        "\n",
        "plt.plot(lamda_value,loss3)\n",
        "plt.xlabel(\"lamda \")\n",
        "plt.ylabel(\"loss L1 + MSE\")\n",
        "plt.text(lamda_value[0],loss3[0],'({}, {})'.format(lamda_value[0], loss3[0]))\n",
        "plt.plot(lamda_value[0],loss3[0],'s')\n",
        "plt.show()\n"
      ],
      "metadata": {
        "id": "C9iKh_hs4cbo",
        "colab": {
          "base_uri": "https://localhost:8080/",
          "height": 290
        },
        "outputId": "48411c0e-4ff1-4b68-bae9-0f525d19090b"
      },
      "execution_count": null,
      "outputs": [
        {
          "output_type": "display_data",
          "data": {
            "image/png": "[encoded data removed]",
            "text/plain": [
              "<Figure size 432x288 with 1 Axes>"
            ]
          },
          "metadata": {
            "needs_background": "light"
          }
        }
      ]
    },
    {
      "cell_type": "code",
      "source": [
        "nrmseloss3=[]\n",
        "for i in range(len(lamda_value)):\n",
        "  nrmseloss3.append(np.round(NRMSE_Loss (x_train, y_train, w_in[i]),decimals= 2))\n",
        "\n",
        "plt.plot(bylamda,nrmseloss3)\n",
        "plt.xlabel(\"1 / lamda\")\n",
        "plt.ylabel(\" train loss\")\n",
        "plt.text(np.max(bylamda),np.min(nrmseloss3),'({}, {})'.format(np.max(bylamda), np.min(nrmseloss3)))\n",
        "plt.show()\n",
        "\n",
        "\n",
        "vx3=[]\n",
        "for i in range(len(lamda_value)):\n",
        "   vx3.append(np.round(NRMSE_Loss (x_test, y_test, w_in[i]),decimals= 2))\n",
        "plt.plot(bylamda,vx3)\n",
        "plt.xlabel(\"1/ lamda\")\n",
        "plt.ylabel(\"test loss\")\n",
        "plt.text(np.max(bylamda),np.min(vx),'({}, {})'.format(np.max(bylamda), np.min(vx3)))\n",
        "plt.show()"
      ],
      "metadata": {
        "colab": {
          "base_uri": "https://localhost:8080/",
          "height": 541
        },
        "id": "nrZytMRuwij8",
        "outputId": "2baf75d7-ecaf-47ac-e734-0680c166ff7d"
      },
      "execution_count": null,
      "outputs": [
        {
          "output_type": "display_data",
          "data": {
            "image/png": "[encoded data removed]",
            "text/plain": [
              "<Figure size 432x288 with 1 Axes>"
            ]
          },
          "metadata": {
            "needs_background": "light"
          }
        },
        {
          "output_type": "display_data",
          "data": {
            "image/png": "[encoded data removed]",
            "text/plain": [
              "<Figure size 432x288 with 1 Axes>"
            ]
          },
          "metadata": {
            "needs_background": "light"
          }
        }
      ]
    },
    {
      "cell_type": "code",
      "source": [
        "print( \"best lamda value\",np.min(lamda_value))\n",
        "print(\"weights for best lamda \", w_in[0])\n",
        "print(\"lowest nrmse for train set \" ,np.min(nrmseloss3))\n",
        "print(\"lowest nrmse for test set \", np.min(vx3))"
      ],
      "metadata": {
        "colab": {
          "base_uri": "https://localhost:8080/"
        },
        "id": "fVP2sDYYy0cG",
        "outputId": "eda464f2-a0ad-45d3-9d28-0e8d9c2d319e"
      },
      "execution_count": null,
      "outputs": [
        {
          "output_type": "stream",
          "name": "stdout",
          "text": [
            "best lamda value 0.01\n",
            "weights for best lamda  [ 3.51118095e-01  6.12124582e-02  5.71705089e-01 -1.54896332e-01\n",
            "  1.81437952e+00  1.14198065e-01 -3.42027693e-01  2.66291181e-01\n",
            " -4.15923664e-01 -1.19707596e-01 -2.01510030e-01 -3.39345456e-01\n",
            " -1.08702984e-01  2.39989031e-01 -2.21391740e-02  1.78022703e-02\n",
            " -8.81040749e-02 -1.10146360e-01 -2.50705073e-01  2.81350538e-01\n",
            "  9.88956669e-02  2.99853032e+01]\n",
            "lowest nrmse for train set  0.5\n",
            "lowest nrmse for test set  0.61\n"
          ]
        }
      ]
    },
    {
      "cell_type": "code",
      "source": [
        "pr_file=np.round(Prediction (x_test, w_final[0]),decimals= 2)\n",
        "np.savetxt('213070028_213070029.csv',pr_file,fmt='%f')\n",
        "print(Prediction ([x_test[1216]], w_final[0])) #y value from the csv file is 21.1"
      ],
      "metadata": {
        "colab": {
          "base_uri": "https://localhost:8080/"
        },
        "id": "_QTBdHlBBkUN",
        "outputId": "dc03b76f-d586-4b48-b99a-6923583545aa"
      },
      "execution_count": null,
      "outputs": [
        {
          "output_type": "stream",
          "name": "stdout",
          "text": [
            "[20.54509479]\n"
          ]
        }
      ]
    },
    {
      "cell_type": "markdown",
      "source": [
        "#**... Part 2 ends.**\n",
        "\n",
        "1. Write the name or roll no.s of friends from outside your group with whom you discussed the assignment here (no penalty for mere discussion without copying code):\n",
        "2. Write the links of sources on the internet referred here (no penalty for mere consultation without copying code):"
      ],
      "metadata": {
        "id": "X5xoNrdBYCGc"
      }
    }
  ],
  "metadata": {
    "kernelspec": {
      "display_name": "Python 3",
      "language": "python",
      "name": "python3"
    },
    "language_info": {
      "codemirror_mode": {
        "name": "ipython",
        "version": 3
      },
      "file_extension": ".py",
      "mimetype": "text/x-python",
      "name": "python",
      "nbconvert_exporter": "python",
      "pygments_lexer": "ipython3",
      "version": "3.8.3"
    },
    "colab": {
      "provenance": []
    }
  },
  "nbformat": 4,
  "nbformat_minor": 0
}